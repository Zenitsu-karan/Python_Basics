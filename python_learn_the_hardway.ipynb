{
  "nbformat": 4,
  "nbformat_minor": 0,
  "metadata": {
    "colab": {
      "provenance": [],
      "collapsed_sections": [
        "PPa0AhwYaOYm",
        "alsPJMVexq_Y",
        "jV9zNt9ZQ0TD"
      ],
      "toc_visible": true,
      "mount_file_id": "1GqkGF8hcLwhm9COZseGn7jDPwvAnV4TV",
      "authorship_tag": "ABX9TyO1LhBqyDddfj2eCNYKMGyR",
      "include_colab_link": true
    },
    "kernelspec": {
      "name": "python3",
      "display_name": "Python 3"
    },
    "language_info": {
      "name": "python"
    },
    "gpuClass": "standard"
  },
  "cells": [
    {
      "cell_type": "markdown",
      "metadata": {
        "id": "view-in-github",
        "colab_type": "text"
      },
      "source": [
        "<a href=\"https://colab.research.google.com/github/Zenitsu-karan/Python_Basics/blob/main/python_learn_the_hardway.ipynb\" target=\"_parent\"><img src=\"https://colab.research.google.com/assets/colab-badge.svg\" alt=\"Open In Colab\"/></a>"
      ]
    },
    {
      "cell_type": "markdown",
      "source": [
        "# Functional Programming\n",
        "Bugs are easy to find \n",
        "Food for thought functional vs OOP\n",
        "Imperative(OOP-how) vs Declarative(functional-what)\n",
        "\n",
        "Immutability - habit of keeping things constant \n",
        "x=3 we mean x is 3 so we dont change the value for x.\n",
        "Separation of data and function - functions arguments are passed as reference \n"
      ],
      "metadata": {
        "id": "Fx24po2-yaxC"
      }
    },
    {
      "cell_type": "code",
      "execution_count": null,
      "metadata": {
        "id": "NMwMC0jcuRG7"
      },
      "outputs": [],
      "source": [
        "\n",
        "\n",
        "from sys import argv\n",
        "def print_two(*args):\n",
        "  arg1,arg2=args\n",
        "  print(\"arg1:{},arg2:{}\".format(arg1,arg2))\n",
        "def print_two_again(arg1,arg2):\n",
        "  print(\"arg1:{},arg2:{}\".format(arg1,arg2))\n",
        "print_two(\"hi\",\"bye\")\n",
        "def _ch23():\n",
        "  print(\"checking for function name\")\n"
      ]
    },
    {
      "cell_type": "markdown",
      "source": [
        "**#Names,Vairables,Code,Functions**"
      ],
      "metadata": {
        "id": "DwZuQ7FT3HUP"
      }
    },
    {
      "cell_type": "code",
      "source": [
        "file1=open(\"/content/sampletext.txt\",\"r\")\n",
        "def print_all(f):\n",
        "  print(f.read())\n",
        "def rewind(f):\n",
        "  f.seek(0)\n",
        "def print_a_line(f,line_no):\n",
        "  print(line_no,f.readline(line_no))\n",
        "current_file=file1\n",
        "print(\"First print the whole file\\n\")\n",
        "print_all(current_file)\n",
        "print(\"Now lets rewind\\n\")\n",
        "rewind(current_file)\n",
        "line=1\n",
        "print_a_line(current_file,1)\n",
        "print_a_line(current_file,line+1)\n",
        "print_a_line(current_file,line+5)\n"
      ],
      "metadata": {
        "id": "ImanzNVg3U5Z"
      },
      "execution_count": null,
      "outputs": []
    },
    {
      "cell_type": "markdown",
      "source": [
        "# File Operation\n",
        "A thorough understanding of File System \n",
        "built in OS module to navigate file system"
      ],
      "metadata": {
        "id": "nJkRItAiMpV6"
      }
    },
    {
      "cell_type": "code",
      "source": [
        "#1bit = 8bytes\n",
        "from os.path import exists\n",
        "file=open(\"/content/sample_data/sampletext.txt\").read()\n",
        "\n",
        "print(f\"The length of my file is {len(file)} bytes long\")\n",
        "print(f\"check if the file exists? {exists(file)}\")\n",
        "print(\"sampletext.txt\\n\",file)\n",
        "file2=open(\"/content/sample_data/sampletext2.txt\",\"w+\") #if it does not exist it creates one when given with write command\n",
        "file2.write('''Okay so this is the second file.\n",
        "I have almost mastered the basic of file operation.\n",
        "with the moderators.\n",
        "''')\n",
        "file2.seek(0)\n",
        "# file2.truncate()\n",
        "print(file2.readline())\n",
        "file2.close()"
      ],
      "metadata": {
        "id": "m6jAgzpMMvIq"
      },
      "execution_count": null,
      "outputs": []
    },
    {
      "cell_type": "markdown",
      "source": [
        "#All basics of python\n"
      ],
      "metadata": {
        "id": "MssT3kp3huSy"
      }
    },
    {
      "cell_type": "code",
      "source": [
        "# print(\"This is from learn python the hard way\",end=\"\\n\")\n",
        "# #1karan=\"hi\" variable name cannot start with number or special character except _#\n",
        "# kar1_n=\"x\" # here a number is between the variable name so okay \n",
        "\n",
        "# num=1 \n",
        "# name=\"karan\"\n",
        "# print(f\"{name} is the {num} in the world\")\n",
        "# print(str(num)+name) # + concatenates the string\n",
        "# type(name)\n",
        "\n",
        "\n",
        "# #arithematic\n",
        "# x=10\n",
        "# y=6\n",
        "# add=x+y\n",
        "# sub=x-y\n",
        "# quot=x//y #10 divided by 6 returning just the quotient\n",
        "# mod=x%y #10 divided by 6 returning just the remiander\n",
        "# sqr=x**2\n",
        "# div=x/y\n",
        "\n",
        "# print(\"add\",add)\n",
        "# print(\"sub\",sub)\n",
        "# print(\"quot\",quot)\n",
        "# print(\"mod\",mod)\n",
        "# print(\"sqr\",sqr)\n",
        "# print(\"div\",round(div,3))\n",
        "\n",
        "\n",
        "# #Strings and text \n",
        "\n",
        "# name=\"karan\"\n",
        "# intro=\"Hey man my name is {}\"\n",
        "# print(intro.format(name))\n",
        "\n",
        "# print(\"this is so {}\".format(\"cool\"))\n",
        "\n",
        "# print(\"He\"*10)\n",
        "\n",
        "# #print(\"{} {} {} {}\".format(1,2,3)) # error\n",
        "# print(\"{} {} {} {}\".format(1,2,3,4,5)) #noerror\n",
        "\n",
        "# print(\"this is for new line\\n wow so smooth\")\n",
        "\n",
        "# print('''Hey guys this is bit borroing but.\n",
        "# Dont worry once you get your basics right.\n",
        "# The journey ahead is so fun and adventorous\n",
        "# ''')\n",
        "\n",
        "\n",
        "# #escaping a character\n",
        "# print(\"hey i am 6'1\\\" tall \" )\n",
        "# print(\"hey this is \\! me\") #unsupported escape sequence in the string\n",
        "# print(\"\\t *i am tabbed\")\n",
        "\n",
        "# \\\\ - \\ \n",
        "# \\' - '\n",
        "# \\\" - \"\n",
        "# \\a\n",
        "# \\b\n",
        "# \\f\n",
        "# \\n - linefeed\n",
        "# \\r - carraige return\n",
        "# \\t\n",
        "# \\v\n",
        "#/ forward slash\n",
        "#\\ backslash\n",
        "\n",
        "#print(\"\\a\\f check \\bwhat a \\fdoes\\r in \\vslash a \")\n",
        "\n",
        "\n",
        "#Taking inputs from user\n",
        "# id=int(input(\"Can you provide me your id  \")) # by default the inputs are taken as string \n",
        "# print(\"heres your id : {} \".format(id))\n",
        "# type(id)\n",
        "\n",
        "##defining a function\n",
        "# def greets(*name):\n",
        "#   name1,name2,name3=name\n",
        "#   print(f\"Hello {name1} and {name2} welcome to the world of {name3}\")\n",
        "# greets(\"karan\",\"Gaurav\",\"coding\")\n",
        "\n",
        "x=10\n",
        "y=22\n",
        "def add(x,y):\n",
        "  x=5\n",
        "  y=6\n",
        "  result=x+y\n",
        "  return result\n",
        "print(add(x,y))\n",
        "print(x,y)"
      ],
      "metadata": {
        "colab": {
          "base_uri": "https://localhost:8080/"
        },
        "id": "2Ov1fDHRhzcT",
        "outputId": "5c2c9267-2639-4f9e-df60-e6c3604f52e5"
      },
      "execution_count": null,
      "outputs": [
        {
          "output_type": "stream",
          "name": "stdout",
          "text": [
            "11\n",
            "10 22\n"
          ]
        }
      ]
    },
    {
      "cell_type": "markdown",
      "source": [
        "#Strings Bytes and character Encoding\n",
        "\n"
      ],
      "metadata": {
        "id": "v6k2VjYP8Pza"
      }
    },
    {
      "cell_type": "markdown",
      "source": [
        " \n",
        "1.   1 and 0 are bits\n",
        "2.   1byte=8bits\n",
        "3.   encode is just an agreed upon standard what sequence of 0 and 1 should represent which number\n",
        "4.    ASCII - American Standard COde for Information Interchange\n",
        "5.    a byte can store for 256 numbers \n",
        "6.    unicode- universal encoding 32bits i.e. 2**32  possibly all human language plus emojis\n",
        "7. python uses by default utf-8 unicode transformation format 8bits\n",
        " \n",
        "\n"
      ],
      "metadata": {
        "id": "CfRDBKQp2Hlg"
      }
    },
    {
      "cell_type": "code",
      "source": [
        "#for terminal users  \n",
        "# from sys import argv\n",
        "# name1,name2=argv\n",
        "#python script.py parameters \n",
        "#The above command written on script passes the parameter to the python\n",
        "print(10*3/2+6-2**2)\n",
        "#(10*1.5+6-4)\n",
        "\n",
        "input_encoding=\"utf-8\"\n",
        "error=\"strict\"\n",
        "def main(lan_file,encoding,error):\n",
        "  line=lan_file.readline()\n",
        "  if line:\n",
        "    print_line(line,encoding,error)\n",
        "    return main(lan_file,encoding,error)\n",
        "def print_line(line,encoding,error):\n",
        "  next_lang=line.strip()\n",
        "  raw_bytes=next_lang.encode(encoding,errors=error)\n",
        "  cooked_string=raw_bytes.decode(encoding,errors=error)\n",
        "\n",
        "  print(raw_bytes,\"<=======>\",cooked_string)\n",
        "languages=open(\"/content/language.txt\",encoding=\"utf-8\")\n",
        "main(languages,input_encoding,error)\n",
        "\n"
      ],
      "metadata": {
        "id": "YFokFvBrmdCR"
      },
      "execution_count": null,
      "outputs": []
    },
    {
      "cell_type": "code",
      "source": [
        "#when sorting the caps are coming first and small letters coming last\n",
        "print(\"Z\",ord(\"Z\"))\n",
        "print(chr(91))\n",
        "print(\"a\",ord(\"A\"))\n",
        "alpha=\"aAbBcCdDeEfF\"\n",
        "alpha=list(alpha)\n",
        "sorted(alpha)"
      ],
      "metadata": {
        "id": "SU3ZvEuW27xY"
      },
      "execution_count": null,
      "outputs": []
    },
    {
      "cell_type": "markdown",
      "source": [
        "# Some String Function\n"
      ],
      "metadata": {
        "id": "QbxJjCAU8wwh"
      }
    },
    {
      "cell_type": "code",
      "source": [
        "def break_words(stuff):\n",
        "  words=stuff.split(\" \")\n",
        "  return words\n",
        "def sort_words(words):\n",
        "  return sorted(words)\n",
        "def print_first_word(words):\n",
        "  word=words.pop(0)\n",
        "  return word\n",
        "def print_last_word(words):\n",
        "  word=words.pop(-1)\n",
        "  return word\n",
        "def sort_sentence(sentence):\n",
        "  words=break_words(sentence)\n",
        "  return sort_words(words)\n",
        "def print_first_and_last(sentence):\n",
        "  words=break_words(sentence)\n",
        "  print_first_word(words)\n",
        "  print_last_word(words)\n",
        "def print_first_and_last_sorted(sentence):\n",
        "  words=sort_sentence(sentence)\n",
        "  print_first_word(words)\n",
        "  print_last_word(words)\n",
        "string=\"This is a string # with some special character\"\n",
        "words=break_words(string)\n",
        "sorted_words=sort_words(words)\n",
        "sorted_words\n",
        "print_first_word(words)\n",
        "print_last_word(words)\n",
        "sort_sentence(string)\n"
      ],
      "metadata": {
        "colab": {
          "base_uri": "https://localhost:8080/"
        },
        "id": "jEeseb0Z81YY",
        "outputId": "3831cdf9-c57f-409c-889e-6b1a5f703a8a"
      },
      "execution_count": null,
      "outputs": [
        {
          "output_type": "stream",
          "name": "stdout",
          "text": [
            "None\n"
          ]
        }
      ]
    },
    {
      "cell_type": "markdown",
      "source": [
        "#Test debugg the code \n"
      ],
      "metadata": {
        "id": "PPa0AhwYaOYm"
      }
    },
    {
      "cell_type": "code",
      "source": [
        "# print(\"How old are you?\", end=' ')\n",
        "# age = input()\n",
        "# print(\"How tall are you?\", end=' ')\n",
        "# height=input()\n",
        "# print(\"How much do you weigh?\", end=' ')\n",
        "# weight = input()\n",
        "\n",
        "# print(f\"So, you're {age} old, {height} tall and {weight} heavy.\")\n",
        "\n",
        "\n",
        "# filename=\"/content/sampletext.txt\"\n",
        "# txt = open(filename)\n",
        "\n",
        "# print(\"Here's your file {filename}:\")\n",
        "# print(txt.read())\n",
        "\n",
        "# print(\"Type the filename again:\")\n",
        "# file_again = input(\"> \")\n",
        "\n",
        "# txt_again = open(file_again)\n",
        "\n",
        "# print(txt_again.read())\n",
        "\n",
        "\n",
        "# print('Let\\'s practice everything.')\n",
        "# print('''You\\'d need to know \\'bout escapes \n",
        "#       with \\\\ that do \\n newlines and \\t tabs.''')\n",
        "\n",
        "# poem = \"\"\"\n",
        "# \\tThe lovely world\n",
        "# with logic so firmly planted\n",
        "# cannot discern \\n the needs of love\n",
        "# nor comprehend passion from intuition\n",
        "# and requires an explanation\n",
        "# \\n\\t\\twhere there is none.\n",
        "# \"\"\"\n",
        "\n",
        "# print(\"--------------\")\n",
        "# print(poem)\n",
        "# print(\"--------------\")\n",
        "\n",
        "\n",
        "# five = 10 - 2 + 3 \n",
        "# print(f\"This should be five: {five}\")\n",
        "\n",
        "# def secret_formula(started):\n",
        "#     jelly_beans = started * 500\n",
        "#     jars = jelly_beans / 1000\n",
        "#     crates = jars/100\n",
        "#     return jelly_beans, jars, crates\n",
        "\n",
        "\n",
        "# start_point = 10000\n",
        "# beans, jars,crates = secret_formula(start_point)\n",
        "\n",
        "# # remember that this is another way to format a string\n",
        "# print(\"With a starting point of: {}\".format(start_point))\n",
        "# # it's just like with an f\"\" string\n",
        "# print(f\"We'd have {beans} beans, {jars} jars, and {crates} crates.\")\n",
        "\n",
        "# start_point = start_point / 10\n",
        "\n",
        "# print(\"We can also do that this way:\")\n",
        "# formula = secret_formula(start_point)\n",
        "# # this is an easy way to apply a list to a format string\n",
        "# print(\"We'd have {} beans, {} jars, and {} crates.\".format(*formula))\n",
        "\n",
        "\n",
        "\n",
        "# people = 20\n",
        "# cats = 30\n",
        "# dogs = 15\n",
        "\n",
        "\n",
        "# if people < cats:\n",
        "#     print (\"Too many cats! The world is doomed!\")\n",
        "\n",
        "# if people > cats:\n",
        "#     print(\"Not many cats! The world is saved!\")\n",
        "\n",
        "# if people < dogs:\n",
        "#     print(\"The world is drooled on!\")\n",
        "\n",
        "# if people > dogs:\n",
        "#     print(\"The world is dry!\")\n",
        "\n",
        "\n",
        "# dogs += 5\n",
        "\n",
        "# if people >= dogs:\n",
        "#     print(\"People are greater than or equal to dogs.\")\n",
        "\n",
        "# if people <= dogs:\n",
        "#     print(\"People are less than or equal to dogs.\")\n",
        "\n",
        "\n",
        "# if people == dogs:\n",
        "#     print(\"People are dogs.\")\n",
        "\n",
        "\n",
        "print(type(print(*formula)))\n",
        "type(formula)"
      ],
      "metadata": {
        "id": "CHcsUgoe9FOo",
        "colab": {
          "base_uri": "https://localhost:8080/"
        },
        "outputId": "d4120ccb-7e8f-43b1-eb39-6dae03cb1f85"
      },
      "execution_count": null,
      "outputs": [
        {
          "output_type": "stream",
          "name": "stdout",
          "text": [
            "500000.0 500.0 5.0\n",
            "<class 'NoneType'>\n"
          ]
        },
        {
          "output_type": "execute_result",
          "data": {
            "text/plain": [
              "tuple"
            ]
          },
          "metadata": {},
          "execution_count": 15
        }
      ]
    },
    {
      "cell_type": "markdown",
      "source": [
        "# Logics \n",
        "### not (True) == False\n",
        "### not (false) == True \n",
        "### True and False == False \n",
        "### True or False == True \n",
        "#### x+= 1 means x=x+1\n",
        "\n",
        "\n",
        "\n",
        "\n"
      ],
      "metadata": {
        "id": "alsPJMVexq_Y"
      }
    },
    {
      "cell_type": "code",
      "source": [
        "if True:\n",
        "   print(\"yes true\")\n",
        "if not True or not False:\n",
        "    print(\"still True\")\n",
        "\n",
        "x=10\n",
        "y=20\n",
        "diff=x-y\n",
        "if diff < x:\n",
        "  print(\"Diff is less than x\")\n",
        "elif diff < y:\n",
        "  print(\"diff is less than y \")\n"
      ],
      "metadata": {
        "id": "6_9lwpXuyTaZ"
      },
      "execution_count": null,
      "outputs": []
    },
    {
      "cell_type": "markdown",
      "source": [
        "#Looping\n",
        "\n"
      ],
      "metadata": {
        "id": "8UOpMP6l4AB2"
      }
    },
    {
      "cell_type": "code",
      "source": [
        "alphanum=[\"1\",\"A\",\"2\",\"B\",\"C\",\"4\"]\n",
        "# for ele in alphanum:\n",
        "#   print(ele)\n",
        "# for i in range(len(alphanum)-1,0,-1):\n",
        "#     print(alphanum[i])\n",
        "alphanum.append(\"Karan\")\n",
        "print(alphanum)\n",
        "type(alphanum)\n",
        "sorted(alphanum)\n",
        "\n",
        "#while loop\n",
        "i=0\n",
        "numbers=[]\n",
        "while i<6:\n",
        "  print(\"at the top i is\",i)\n",
        "  numbers.append(i)\n",
        "  i+=1\n",
        "  print(\"Numbers now :\", numbers)\n",
        "  print(\"at the bottom i is\",i)\n",
        "\n"
      ],
      "metadata": {
        "id": "mmuwo0ga4DNe"
      },
      "execution_count": null,
      "outputs": []
    },
    {
      "cell_type": "markdown",
      "source": [
        "##List"
      ],
      "metadata": {
        "id": "oD4kNCyDAwlJ"
      }
    },
    {
      "cell_type": "code",
      "source": [
        "animals=[\"Bear\",\"Tiger\",\"Monkey\"]\n",
        "num=[1,2,3,4,5,6,7]\n",
        "\n",
        "#Lst[ Initial : End : IndexJump ]\n",
        "#-7__-6__-5__-4__-3__-2__-1___ neg index\n",
        "# 1 | 2 | 3 | 4 | 5 | 6 | 7 | array\n",
        "#_0___1____2__3___4___5___6__ pos index \n",
        "num[::]\n",
        "num[0:7:2]\n",
        "num[::-1]\n",
        "#if the initial and end are kept empty it takes the default that is initial : 0 and end : length of list\n",
        "\n",
        "animals.pop(0) #removes the element from the list\n",
        "string=\"Some string can be split by split method\"\n",
        "string.split(\" \") #returns a list based on the delimeter\n",
        "animals.append(\"karan\")\n",
        "animals\n",
        "stuff=\"This is joined\"\n",
        "print(animals)\n",
        "print('#'.join(animals[1:3]))\n",
        "del animals[0]\n",
        "print(animals)\n"
      ],
      "metadata": {
        "colab": {
          "base_uri": "https://localhost:8080/"
        },
        "id": "iEaVR3F_AzAh",
        "outputId": "d24ecc55-8554-4f7a-d36f-6ab3fa742fbb"
      },
      "execution_count": null,
      "outputs": [
        {
          "output_type": "stream",
          "name": "stdout",
          "text": [
            "['Tiger', 'Monkey', 'karan']\n",
            "Monkey#karan\n",
            "['Monkey', 'karan']\n"
          ]
        }
      ]
    },
    {
      "cell_type": "markdown",
      "source": [
        "##Dictionaries "
      ],
      "metadata": {
        "id": "DtHKtf9eF9sQ"
      }
    },
    {
      "cell_type": "code",
      "source": [
        "things={\"name\":\"karan\",2:39,2:34}\n",
        "print(things[2])#if 2 values of has same key then the latest one is considered no errors are observed \n",
        "# we can use del to delete elements by key \n",
        "print(type(things.items()))\n",
        "\n",
        "for key,val in list(things.items()):\n",
        "  print(key,val)\n",
        "##dictionary[\"key\"]=\"value\"\n",
        "things.get(\"name\",\"default\") #if the key is not present the second parameter acts as a default.\n",
        "state=\"\"\n",
        "if not state: #it means if the given variable is not non-empty but since it is empty it will be like if not false ie. if true.\n",
        "  print(\"emtpy\") \n"
      ],
      "metadata": {
        "colab": {
          "base_uri": "https://localhost:8080/"
        },
        "id": "JaFnaY24GDFD",
        "outputId": "3425600f-3185-41e4-eb73-049cee9eff55"
      },
      "execution_count": null,
      "outputs": [
        {
          "output_type": "stream",
          "name": "stdout",
          "text": [
            "34\n",
            "<class 'dict_items'>\n",
            "name karan\n",
            "2 34\n",
            "emtpy\n"
          ]
        }
      ]
    },
    {
      "cell_type": "markdown",
      "source": [
        "#Branches and Functions\n"
      ],
      "metadata": {
        "id": "jV9zNt9ZQ0TD"
      }
    },
    {
      "cell_type": "code",
      "source": [
        "from sys import exit\n",
        "def gold_room():\n",
        "  print(\"this room is full of gold. How much do you take?\")\n",
        "  how_much=int(input(\"> \" ))\n",
        "  if how_much<=50:\n",
        "    print(\"Nice,you're not greedy,you win!\")\n",
        "    exit(0)\n",
        "  else:\n",
        "    dead(\"You greedy fella!\")\n",
        "def bear_room():\n",
        "    print(\"\"\"There is bear here.\n",
        "          The bear has a bunch of honey.\n",
        "          The fat bear is in front of another door.\n",
        "          How are you going to move the bear?\"\"\")\n",
        "    bear_moved=False\n",
        "    while True:\n",
        "      choice=input(\"> \")\n",
        "      if choice == \"take honey\":\n",
        "        dead(\"The bear looks at you then slaps your face off.\")\n",
        "      elif choice == \"taunt bear\" and not bear_moved:\n",
        "        print(\"The bear has moved from the door\")\n",
        "        print(\"You can go thru it now\")\n",
        "        bear_moved=True\n",
        "      elif choice==\"taunt bear\" and bear_moved:\n",
        "        dead(\"The bear gets pissed off and chews your leg off\")\n",
        "      elif choice==\"Open door\" and bear_moved:\n",
        "        gold_room()\n",
        "      else:\n",
        "        print(\"I got no idea what that means\")\n",
        "    \n",
        "def cthulhu_room():\n",
        "      print(\"\"\"Here you see the great evil Cthulhu.\n",
        "      It stares at you and you go insane.\n",
        "      Do you flee for your life or eat your head?\"\"\")\n",
        "      choice = input(\">\")\n",
        "      if \"flee\" in choice:\n",
        "        start()\n",
        "      elif \"head\" in choice:\n",
        "        dead(\"Well that was tasty\")\n",
        "      else:\n",
        "        cthulhu_room()\n",
        "      \n",
        "def dead(why):\n",
        "        print(why,\"Good job\")\n",
        "        exit(0)\n",
        "      \n",
        "def start():\n",
        "        print(\"\"\"You are in a dark room\n",
        "        There is adoor to your right and left\n",
        "        Which one do you take?\"\"\")\n",
        "\n",
        "        choice=input(\"> \")\n",
        "        if choice.lower() == \"left\":\n",
        "          bear_room()\n",
        "        elif choice.lower() == \"right\":\n",
        "          cthulhu_room()\n",
        "        else:\n",
        "          dead(\"You stumble around the room until you starve\")\n",
        "  \n",
        "start()        \n",
        "\n"
      ],
      "metadata": {
        "colab": {
          "base_uri": "https://localhost:8080/",
          "height": 374
        },
        "id": "9X6oKCiDQ3n2",
        "outputId": "3238f33a-93a3-4886-bf51-c8af8e2b89fb"
      },
      "execution_count": null,
      "outputs": [
        {
          "output_type": "stream",
          "name": "stdout",
          "text": [
            "You are in a dark room\n",
            "        There is adoor to your right and left\n",
            "        Which one do you take?\n",
            "> left\n",
            "There is bear here.\n",
            "          The bear has a bunch of honey.\n",
            "          The fat bear is in front of another door.\n",
            "          How are you going to move the bear?\n",
            "> taunt bear\n",
            "The bear has moved from the door\n",
            "You can go thru it now\n",
            "> Open door\n",
            "this room is full of gold. How much do you take?\n",
            "> 34\n",
            "Man,learn to type a number. Good job\n"
          ]
        },
        {
          "output_type": "error",
          "ename": "SystemExit",
          "evalue": "ignored",
          "traceback": [
            "An exception has occurred, use %tb to see the full traceback.\n",
            "\u001b[0;31mSystemExit\u001b[0m\u001b[0;31m:\u001b[0m 0\n"
          ]
        }
      ]
    },
    {
      "cell_type": "markdown",
      "source": [
        "#OOP - object oriented programming"
      ],
      "metadata": {
        "id": "pKwKSO38k8pq"
      }
    },
    {
      "cell_type": "code",
      "source": [
        "# class MyStuff(object):\n",
        "#   def __init__(self):\n",
        "#     self.tangerine=\"And now a thousand yeard between\"\n",
        "#   def apple(self):\n",
        "#     print(\"I AM APPLE\")\n",
        "# #when we instantiate means to say we create we get an object \n",
        "# thing=MyStuff() ##here we created an object \n",
        "# thing.apple()\n",
        "# print(thing.tangerine)\n",
        "\n",
        "\n",
        "#this is a basic class\n",
        "class Book:\n",
        "  #there is by default an __init__ function which is overriden\n",
        "  #its different from constructor\n",
        "  #self is not a necessary key word we can use other words also like the obj i have used here but self is considered a standard word while working with classes\n",
        "  def __init__(obj,title,pages,price):\n",
        "    obj.title=title\n",
        "    obj.pages=pages\n",
        "    obj.price=price\n",
        "    obj.__secret=\"This is a secret attr\"\n",
        "  def getprice(self):\n",
        "    if hasattr(self,\"_discount\"):\n",
        "      return self.price - (self.price *self._discount)\n",
        "    else:\n",
        "      return self.price\n",
        "  def setdiscount(self,amount):\n",
        "    self._discount=amount\n",
        "    #only used within the logic of the class\n",
        "  \n",
        "#creating instances of the class\n",
        "#here when we are instantiating the class as object b1, simultaneously the init function is also called.\n",
        "#and the object name b1 is sent as a parameter \n",
        "b1=Book(\"1984\",230,100)\n",
        "b2=Book(\"Brave new World\",200,250)\n",
        "print(b2.getprice())\n",
        "b2.setdiscount(0.10)\n",
        "print(b2.getprice())\n",
        "\n",
        "#when __attr is accesed\n",
        "#prefixing the class name in the attr  its called name mangling\n",
        "#to prevent subclasses by inadvertently overriding the attr \n",
        "#but other classes can use the attr\n",
        "print(b2._Book__secret) "
      ],
      "metadata": {
        "id": "_2JrMpP5lE4p"
      },
      "execution_count": null,
      "outputs": []
    },
    {
      "cell_type": "markdown",
      "source": [
        "###isinstance() function"
      ],
      "metadata": {
        "id": "OT-HaRFSnM1X"
      }
    },
    {
      "cell_type": "code",
      "source": [
        "class book:\n",
        "  def __init__(self,title):\n",
        "    self.title=title\n",
        "class newspaper:\n",
        "  def __init__(self,title):\n",
        "    self.title=title\n",
        "b1=book(\"some book\")\n",
        "n1=newspaper(\"some newspaper\")\n",
        "\n",
        "print(isinstance(b1,book))\n",
        "print(isinstance(n1,newspaper))\n",
        "print(isinstance(b1,newspaper))\n",
        "print(isinstance(b1,object))"
      ],
      "metadata": {
        "id": "MeYQodT7h6ge"
      },
      "execution_count": null,
      "outputs": []
    },
    {
      "cell_type": "markdown",
      "source": [
        "##Class Method and static Method\n",
        "  -instance method work on specific objects\n",
        "  -class method works on entire class\n",
        "  -static method doesnt modify the state or specific \n",
        "  -object instance, they are useful in namespacing  -  -certain methods or we would have created a global -function and printed in the class namespace"
      ],
      "metadata": {
        "id": "yO1XFVSpnRwU"
      }
    },
    {
      "cell_type": "code",
      "source": [
        "class Book:\n",
        "  #properties defined at the class level are shared by all instances\n",
        "  BOOKTYPES=(\"Hardcover\",\"Paperback\",\"Ebook\")\n",
        "  #__ properties are hidden from other classes\n",
        "  __booklist=None\n",
        "\n",
        "  #create a class method they are shared at class level and shared across all instances of the class\n",
        "  #  classmethod #pronounced as class method decorator\n",
        "  #  Here if each book object was assigned a booktype, if it is going to apply to all object it \n",
        "  #  make sense to be appplied just once so a class method\n",
        "  @classmethod \n",
        "  def getbooktypes(cls):\n",
        "    return cls.BOOKTYPES\n",
        " \n",
        "  #create a static method\n",
        "  #example we want to create a variable that keeps the track of book\n",
        "  #This makes sense that it would belong to only book class\n",
        "  @staticmethod\n",
        "  def getbooklist():\n",
        "    if Book.__booklist == None:\n",
        "      Book.__booklist = []\n",
        "    return Book.__booklist\n",
        "\n",
        "\n",
        "#instance function and the title attr is itself the instance attr \n",
        "  def setTitle(self,newtitle):\n",
        "    self.title=newtitle\n",
        "  def __init__(self,title,booktype):\n",
        "    self.title=title\n",
        "    if (booktype not in Book.BOOKTYPES):\n",
        "      raise ValueError(f\"{booktype} is not a valid booktype\")\n",
        "    else:\n",
        "      self.booktype=booktype\n",
        "\n",
        "\n",
        "    \n",
        "print(\"Book types :\", Book.getbooktypes())\n",
        "b1=Book(\"1984\",\"Paperback\")\n",
        "b2=Book(\"Ravan\",\"Hardcover\")  \n",
        "\n",
        "#use of static method\n",
        "thebooks=Book.getbooklist()\n",
        "thebooks.append(b1.title)\n",
        "thebooks.append(b2.title)\n",
        "print(thebooks)\n"
      ],
      "metadata": {
        "id": "WJMZiZrZm90I"
      },
      "execution_count": null,
      "outputs": []
    },
    {
      "cell_type": "markdown",
      "source": [
        "##Inheritance\n"
      ],
      "metadata": {
        "id": "Q-4QA9AgX-rT"
      }
    },
    {
      "cell_type": "code",
      "source": [
        "#Lets create classes to build a set of furnitures\n",
        "\n",
        "class furniture:\n",
        "  def __init__(self,woodtype,screws):\n",
        "    self.woodtype=woodtype\n",
        "    self.screws=screws\n",
        "\n",
        "class Chair(furniture):\n",
        "  def __init__(self,arms,dim,woodtype,screws):\n",
        "    super().__init__(woodtype,screws)\n",
        "    self.dim=dim\n",
        "    self.arms=arms\n",
        "\n",
        "class Table(furniture):\n",
        "  def __init__(self,legs,woodtype,screws):\n",
        "    super().__init__(woodtype,screws)\n",
        "    self.legs=legs\n",
        "  \n",
        "ch1=Chair(3,\"6*8\",\"Burma\",4)\n",
        "tb1=Table(4,\"Teak\",10)\n",
        "\n",
        "print(f\"\"\"\n",
        "        chairs arms : {ch1.arms}\n",
        "        dim : {ch1.dim}\n",
        "        woodtype : {ch1.woodtype}\n",
        "        screws : {ch1.screws}\n",
        "      \n",
        "         Table legs : {tb1.legs}\n",
        "          woodtype : {tb1.woodtype}\n",
        "          screws : {tb1.screws} \"\"\")"
      ],
      "metadata": {
        "id": "IY-_9urLYMqN"
      },
      "execution_count": null,
      "outputs": []
    },
    {
      "cell_type": "markdown",
      "source": [
        "##abstract base class\n"
      ],
      "metadata": {
        "id": "o_cFSBRQcYX5"
      }
    },
    {
      "cell_type": "code",
      "source": [
        "from abc import ABC,abstractclassmethod\n",
        "#using abstract base classes to enforce class constraints\n",
        "\n",
        "class graphic(ABC):\n",
        "  def __init__(self):\n",
        "    super().__init__() #this is inherited \n",
        "\n",
        "  @abstractclassmethod\n",
        "  def calarea(self):\n",
        "    pass\n",
        "  def bal(self):\n",
        "    pass\n",
        "\n",
        "class circle(graphic):\n",
        "  def __init__(self,radius):\n",
        "    self.radius=radius\n",
        "  def calarea(self):\n",
        "    return (3.14*(self.radius**2))\n",
        "\n",
        "class square(graphic):\n",
        "  def __init__(self,side):\n",
        "    self.side=side\n",
        "  def calarea(self):\n",
        "    return (self.side**2)\n",
        "\n",
        "#g=graphic()  \n",
        "cir=circle(4)\n",
        "sq=square(10)\n",
        "print(\"Area of circle\",cir.calarea())\n",
        "print(\"Area of square\",sq.calarea())\n"
      ],
      "metadata": {
        "colab": {
          "base_uri": "https://localhost:8080/"
        },
        "id": "aIHMWRYscfyY",
        "outputId": "80ad6f1e-7da7-4795-c76a-2f47289eddeb"
      },
      "execution_count": null,
      "outputs": [
        {
          "output_type": "stream",
          "name": "stdout",
          "text": [
            "Area of circle 50.24\n",
            "Area of square 100\n"
          ]
        }
      ]
    },
    {
      "cell_type": "markdown",
      "source": [
        "##Multiple Inheritance"
      ],
      "metadata": {
        "id": "UaiOak0Ze2Dw"
      }
    },
    {
      "cell_type": "code",
      "source": [
        "from os import name\n",
        "#method resolution order left to right in the parameter\n",
        "class winduser:\n",
        "  def __init__(self):\n",
        "    super().__init__()\n",
        "    self.windpower=\"windpower\"\n",
        "    self.name=\"Vayu\"\n",
        "  \n",
        "class earthuser:\n",
        "  def __init__(self):\n",
        "    super().__init__()  \n",
        "    self.earthpower='earthpower'\n",
        "    self.name=\"Dharti\"\n",
        "  \n",
        "  \n",
        " #based on the order the super().__init__() needs to be present in any one of the super class __init__ method\n",
        "\n",
        "class avatar(earthuser,winduser): \n",
        "  def __init__(self):\n",
        "    super().__init__()\n",
        "   \n",
        "  def showpowers(self):\n",
        "    print(self.windpower)\n",
        "    print(self.earthpower)\n",
        "    print(self.name)\n",
        "\n",
        "\n",
        "aang=avatar()\n",
        "aang.showpowers()\n",
        "print(avatar.__mro__)\n",
        "#implicit superclass for all python objects is the class object"
      ],
      "metadata": {
        "colab": {
          "base_uri": "https://localhost:8080/"
        },
        "id": "pBkFWfrge5TP",
        "outputId": "052ffd71-0105-41ce-f564-12a59c63a700"
      },
      "execution_count": null,
      "outputs": [
        {
          "output_type": "stream",
          "name": "stdout",
          "text": [
            "windpower\n",
            "earthpower\n",
            "Dharti\n",
            "(<class '__main__.avatar'>, <class '__main__.earthuser'>, <class '__main__.winduser'>, <class 'object'>)\n"
          ]
        }
      ]
    },
    {
      "cell_type": "markdown",
      "source": [
        "##Interfaces"
      ],
      "metadata": {
        "id": "n5pPdX7HkTue"
      }
    },
    {
      "cell_type": "code",
      "source": [],
      "metadata": {
        "id": "F31ECjmXkWIv"
      },
      "execution_count": null,
      "outputs": []
    },
    {
      "cell_type": "markdown",
      "source": [],
      "metadata": {
        "id": "44lzyIoKcfZH"
      }
    }
  ]
}