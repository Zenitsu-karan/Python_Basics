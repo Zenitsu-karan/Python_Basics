{
  "nbformat": 4,
  "nbformat_minor": 0,
  "metadata": {
    "colab": {
      "provenance": [],
      "collapsed_sections": [
        "PPa0AhwYaOYm",
        "alsPJMVexq_Y",
        "jV9zNt9ZQ0TD"
      ],
      "toc_visible": true,
      "mount_file_id": "1GqkGF8hcLwhm9COZseGn7jDPwvAnV4TV",
      "authorship_tag": "ABX9TyMl83lBh6ezA5aaEzAqhyr9",
      "include_colab_link": true
    },
    "kernelspec": {
      "name": "python3",
      "display_name": "Python 3"
    },
    "language_info": {
      "name": "python"
    },
    "gpuClass": "standard"
  },
  "cells": [
    {
      "cell_type": "markdown",
      "metadata": {
        "id": "view-in-github",
        "colab_type": "text"
      },
      "source": [
        "<a href=\"https://colab.research.google.com/github/Zenitsu-karan/Python_Basics/blob/main/python_learn_the_hardway.ipynb\" target=\"_parent\"><img src=\"https://colab.research.google.com/assets/colab-badge.svg\" alt=\"Open In Colab\"/></a>"
      ]
    },
    {
      "cell_type": "markdown",
      "source": [
        "# Functional Programming\n",
        "Bugs are easy to find \n",
        "Food for thought functional vs OOP\n",
        "Imperative(OOP-how) vs Declarative(functional-what)\n",
        "\n",
        "Immutability - habit of keeping things constant \n",
        "x=3 we mean x is 3 so we dont change the value for x.\n",
        "Separation of data and function - functions arguments are passed as reference \n"
      ],
      "metadata": {
        "id": "Fx24po2-yaxC"
      }
    },
    {
      "cell_type": "code",
      "execution_count": null,
      "metadata": {
        "id": "NMwMC0jcuRG7"
      },
      "outputs": [],
      "source": [
        "\n",
        "\n",
        "from sys import argv\n",
        "def print_two(*args):\n",
        "  arg1,arg2=args\n",
        "  print(\"arg1:{},arg2:{}\".format(arg1,arg2))\n",
        "def print_two_again(arg1,arg2):\n",
        "  print(\"arg1:{},arg2:{}\".format(arg1,arg2))\n",
        "print_two(\"hi\",\"bye\")\n",
        "def _ch23():\n",
        "  print(\"checking for function name\")\n"
      ]
    },
    {
      "cell_type": "markdown",
      "source": [
        "**#Names,Vairables,Code,Functions**"
      ],
      "metadata": {
        "id": "DwZuQ7FT3HUP"
      }
    },
    {
      "cell_type": "code",
      "source": [
        "file1=open(\"/content/sampletext.txt\",\"r\")\n",
        "def print_all(f):\n",
        "  print(f.read())\n",
        "def rewind(f):\n",
        "  f.seek(0)\n",
        "def print_a_line(f,line_no):\n",
        "  print(line_no,f.readline(line_no))\n",
        "current_file=file1\n",
        "print(\"First print the whole file\\n\")\n",
        "print_all(current_file)\n",
        "print(\"Now lets rewind\\n\")\n",
        "rewind(current_file)\n",
        "line=1\n",
        "print_a_line(current_file,1)\n",
        "print_a_line(current_file,line+1)\n",
        "print_a_line(current_file,line+5)\n"
      ],
      "metadata": {
        "id": "ImanzNVg3U5Z"
      },
      "execution_count": null,
      "outputs": []
    },
    {
      "cell_type": "markdown",
      "source": [
        "# File Operation\n",
        "A thorough understanding of File System \n",
        "built in OS module to navigate file system"
      ],
      "metadata": {
        "id": "nJkRItAiMpV6"
      }
    },
    {
      "cell_type": "code",
      "source": [
        "#1bit = 8bytes\n",
        "from os.path import exists\n",
        "file=open(\"/content/sample_data/sampletext.txt\").read()\n",
        "\n",
        "print(f\"The length of my file is {len(file)} bytes long\")\n",
        "print(f\"check if the file exists? {exists(file)}\")\n",
        "print(\"sampletext.txt\\n\",file)\n",
        "file2=open(\"/content/sample_data/sampletext2.txt\",\"w+\") #if it does not exist it creates one when given with write command\n",
        "file2.write('''Okay so this is the second file.\n",
        "I have almost mastered the basic of file operation.\n",
        "with the moderators.\n",
        "''')\n",
        "file2.seek(0)\n",
        "# file2.truncate()\n",
        "print(file2.readline())\n",
        "file2.close()"
      ],
      "metadata": {
        "id": "m6jAgzpMMvIq"
      },
      "execution_count": null,
      "outputs": []
    },
    {
      "cell_type": "markdown",
      "source": [
        "#All basics of python\n"
      ],
      "metadata": {
        "id": "MssT3kp3huSy"
      }
    },
    {
      "cell_type": "code",
      "source": [
        "# print(\"This is from learn python the hard way\",end=\"\\n\")\n",
        "# #1karan=\"hi\" variable name cannot start with number or special character except _#\n",
        "# kar1_n=\"x\" # here a number is between the variable name so okay \n",
        "\n",
        "# num=1 \n",
        "# name=\"karan\"\n",
        "# print(f\"{name} is the {num} in the world\")\n",
        "# print(str(num)+name) # + concatenates the string\n",
        "# type(name)\n",
        "\n",
        "\n",
        "# #arithematic\n",
        "# x=10\n",
        "# y=6\n",
        "# add=x+y\n",
        "# sub=x-y\n",
        "# quot=x//y #10 divided by 6 returning just the quotient\n",
        "# mod=x%y #10 divided by 6 returning just the remiander\n",
        "# sqr=x**2\n",
        "# div=x/y\n",
        "\n",
        "# print(\"add\",add)\n",
        "# print(\"sub\",sub)\n",
        "# print(\"quot\",quot)\n",
        "# print(\"mod\",mod)\n",
        "# print(\"sqr\",sqr)\n",
        "# print(\"div\",round(div,3))\n",
        "\n",
        "\n",
        "# #Strings and text \n",
        "\n",
        "# name=\"karan\"\n",
        "# intro=\"Hey man my name is {}\"\n",
        "# print(intro.format(name))\n",
        "\n",
        "# print(\"this is so {}\".format(\"cool\"))\n",
        "\n",
        "# print(\"He\"*10)\n",
        "\n",
        "# #print(\"{} {} {} {}\".format(1,2,3)) # error\n",
        "# print(\"{} {} {} {}\".format(1,2,3,4,5)) #noerror\n",
        "\n",
        "# print(\"this is for new line\\n wow so smooth\")\n",
        "\n",
        "# print('''Hey guys this is bit borroing but.\n",
        "# Dont worry once you get your basics right.\n",
        "# The journey ahead is so fun and adventorous\n",
        "# ''')\n",
        "\n",
        "\n",
        "# #escaping a character\n",
        "# print(\"hey i am 6'1\\\" tall \" )\n",
        "# print(\"hey this is \\! me\") #unsupported escape sequence in the string\n",
        "# print(\"\\t *i am tabbed\")\n",
        "\n",
        "# \\\\ - \\ \n",
        "# \\' - '\n",
        "# \\\" - \"\n",
        "# \\a\n",
        "# \\b\n",
        "# \\f\n",
        "# \\n - linefeed\n",
        "# \\r - carraige return\n",
        "# \\t\n",
        "# \\v\n",
        "#/ forward slash\n",
        "#\\ backslash\n",
        "\n",
        "#print(\"\\a\\f check \\bwhat a \\fdoes\\r in \\vslash a \")\n",
        "\n",
        "\n",
        "#Taking inputs from user\n",
        "# id=int(input(\"Can you provide me your id  \")) # by default the inputs are taken as string \n",
        "# print(\"heres your id : {} \".format(id))\n",
        "# type(id)\n",
        "\n",
        "##defining a function\n",
        "# def greets(*name):\n",
        "#   name1,name2,name3=name\n",
        "#   print(f\"Hello {name1} and {name2} welcome to the world of {name3}\")\n",
        "# greets(\"karan\",\"Gaurav\",\"coding\")\n",
        "\n",
        "x=10\n",
        "y=22\n",
        "def add(x,y):\n",
        "  x=5\n",
        "  y=6\n",
        "  result=x+y\n",
        "  return result\n",
        "print(add(x,y))\n",
        "print(x,y)"
      ],
      "metadata": {
        "colab": {
          "base_uri": "https://localhost:8080/"
        },
        "id": "2Ov1fDHRhzcT",
        "outputId": "5c2c9267-2639-4f9e-df60-e6c3604f52e5"
      },
      "execution_count": null,
      "outputs": [
        {
          "output_type": "stream",
          "name": "stdout",
          "text": [
            "11\n",
            "10 22\n"
          ]
        }
      ]
    },
    {
      "cell_type": "markdown",
      "source": [
        "#Strings Bytes and character Encoding\n",
        "\n"
      ],
      "metadata": {
        "id": "v6k2VjYP8Pza"
      }
    },
    {
      "cell_type": "markdown",
      "source": [
        " \n",
        "1.   1 and 0 are bits\n",
        "2.   1byte=8bits\n",
        "3.   encode is just an agreed upon standard what sequence of 0 and 1 should represent which number\n",
        "4.    ASCII - American Standard COde for Information Interchange\n",
        "5.    a byte can store for 256 numbers \n",
        "6.    unicode- universal encoding 32bits i.e. 2**32  possibly all human language plus emojis\n",
        "7. python uses by default utf-8 unicode transformation format 8bits\n",
        " \n",
        "\n"
      ],
      "metadata": {
        "id": "CfRDBKQp2Hlg"
      }
    },
    {
      "cell_type": "code",
      "source": [
        "#for terminal users  \n",
        "# from sys import argv\n",
        "# name1,name2=argv\n",
        "#python script.py parameters \n",
        "#The above command written on script passes the parameter to the python\n",
        "print(10*3/2+6-2**2)\n",
        "#(10*1.5+6-4)\n",
        "\n",
        "input_encoding=\"utf-8\"\n",
        "error=\"strict\"\n",
        "def main(lan_file,encoding,error):\n",
        "  line=lan_file.readline()\n",
        "  if line:\n",
        "    print_line(line,encoding,error)\n",
        "    return main(lan_file,encoding,error)\n",
        "def print_line(line,encoding,error):\n",
        "  next_lang=line.strip()\n",
        "  raw_bytes=next_lang.encode(encoding,errors=error)\n",
        "  cooked_string=raw_bytes.decode(encoding,errors=error)\n",
        "\n",
        "  print(raw_bytes,\"<=======>\",cooked_string)\n",
        "languages=open(\"/content/language.txt\",encoding=\"utf-8\")\n",
        "main(languages,input_encoding,error)\n",
        "\n"
      ],
      "metadata": {
        "id": "YFokFvBrmdCR"
      },
      "execution_count": null,
      "outputs": []
    },
    {
      "cell_type": "code",
      "source": [
        "#when sorting the caps are coming first and small letters coming last\n",
        "print(\"Z\",ord(\"Z\"))\n",
        "print(chr(91))\n",
        "print(\"a\",ord(\"A\"))\n",
        "alpha=\"aAbBcCdDeEfF\"\n",
        "alpha=list(alpha)\n",
        "sorted(alpha)"
      ],
      "metadata": {
        "id": "SU3ZvEuW27xY"
      },
      "execution_count": null,
      "outputs": []
    },
    {
      "cell_type": "markdown",
      "source": [
        "# Some String Function\n"
      ],
      "metadata": {
        "id": "QbxJjCAU8wwh"
      }
    },
    {
      "cell_type": "code",
      "source": [
        "def break_words(stuff):\n",
        "  words=stuff.split(\" \")\n",
        "  return words\n",
        "def sort_words(words):\n",
        "  return sorted(words)\n",
        "def print_first_word(words):\n",
        "  word=words.pop(0)\n",
        "  return word\n",
        "def print_last_word(words):\n",
        "  word=words.pop(-1)\n",
        "  return word\n",
        "def sort_sentence(sentence):\n",
        "  words=break_words(sentence)\n",
        "  return sort_words(words)\n",
        "def print_first_and_last(sentence):\n",
        "  words=break_words(sentence)\n",
        "  print_first_word(words)\n",
        "  print_last_word(words)\n",
        "def print_first_and_last_sorted(sentence):\n",
        "  words=sort_sentence(sentence)\n",
        "  print_first_word(words)\n",
        "  print_last_word(words)\n",
        "string=\"This is a string # with some special character\"\n",
        "words=break_words(string)\n",
        "sorted_words=sort_words(words)\n",
        "sorted_words\n",
        "print_first_word(words)\n",
        "print_last_word(words)\n",
        "sort_sentence(string)\n"
      ],
      "metadata": {
        "colab": {
          "base_uri": "https://localhost:8080/"
        },
        "id": "jEeseb0Z81YY",
        "outputId": "3831cdf9-c57f-409c-889e-6b1a5f703a8a"
      },
      "execution_count": null,
      "outputs": [
        {
          "output_type": "stream",
          "name": "stdout",
          "text": [
            "None\n"
          ]
        }
      ]
    },
    {
      "cell_type": "markdown",
      "source": [
        "#Test debugg the code \n"
      ],
      "metadata": {
        "id": "PPa0AhwYaOYm"
      }
    },
    {
      "cell_type": "code",
      "source": [
        "# print(\"How old are you?\", end=' ')\n",
        "# age = input()\n",
        "# print(\"How tall are you?\", end=' ')\n",
        "# height=input()\n",
        "# print(\"How much do you weigh?\", end=' ')\n",
        "# weight = input()\n",
        "\n",
        "# print(f\"So, you're {age} old, {height} tall and {weight} heavy.\")\n",
        "\n",
        "\n",
        "# filename=\"/content/sampletext.txt\"\n",
        "# txt = open(filename)\n",
        "\n",
        "# print(\"Here's your file {filename}:\")\n",
        "# print(txt.read())\n",
        "\n",
        "# print(\"Type the filename again:\")\n",
        "# file_again = input(\"> \")\n",
        "\n",
        "# txt_again = open(file_again)\n",
        "\n",
        "# print(txt_again.read())\n",
        "\n",
        "\n",
        "# print('Let\\'s practice everything.')\n",
        "# print('''You\\'d need to know \\'bout escapes \n",
        "#       with \\\\ that do \\n newlines and \\t tabs.''')\n",
        "\n",
        "# poem = \"\"\"\n",
        "# \\tThe lovely world\n",
        "# with logic so firmly planted\n",
        "# cannot discern \\n the needs of love\n",
        "# nor comprehend passion from intuition\n",
        "# and requires an explanation\n",
        "# \\n\\t\\twhere there is none.\n",
        "# \"\"\"\n",
        "\n",
        "# print(\"--------------\")\n",
        "# print(poem)\n",
        "# print(\"--------------\")\n",
        "\n",
        "\n",
        "# five = 10 - 2 + 3 \n",
        "# print(f\"This should be five: {five}\")\n",
        "\n",
        "# def secret_formula(started):\n",
        "#     jelly_beans = started * 500\n",
        "#     jars = jelly_beans / 1000\n",
        "#     crates = jars/100\n",
        "#     return jelly_beans, jars, crates\n",
        "\n",
        "\n",
        "# start_point = 10000\n",
        "# beans, jars,crates = secret_formula(start_point)\n",
        "\n",
        "# # remember that this is another way to format a string\n",
        "# print(\"With a starting point of: {}\".format(start_point))\n",
        "# # it's just like with an f\"\" string\n",
        "# print(f\"We'd have {beans} beans, {jars} jars, and {crates} crates.\")\n",
        "\n",
        "# start_point = start_point / 10\n",
        "\n",
        "# print(\"We can also do that this way:\")\n",
        "# formula = secret_formula(start_point)\n",
        "# # this is an easy way to apply a list to a format string\n",
        "# print(\"We'd have {} beans, {} jars, and {} crates.\".format(*formula))\n",
        "\n",
        "\n",
        "\n",
        "# people = 20\n",
        "# cats = 30\n",
        "# dogs = 15\n",
        "\n",
        "\n",
        "# if people < cats:\n",
        "#     print (\"Too many cats! The world is doomed!\")\n",
        "\n",
        "# if people > cats:\n",
        "#     print(\"Not many cats! The world is saved!\")\n",
        "\n",
        "# if people < dogs:\n",
        "#     print(\"The world is drooled on!\")\n",
        "\n",
        "# if people > dogs:\n",
        "#     print(\"The world is dry!\")\n",
        "\n",
        "\n",
        "# dogs += 5\n",
        "\n",
        "# if people >= dogs:\n",
        "#     print(\"People are greater than or equal to dogs.\")\n",
        "\n",
        "# if people <= dogs:\n",
        "#     print(\"People are less than or equal to dogs.\")\n",
        "\n",
        "\n",
        "# if people == dogs:\n",
        "#     print(\"People are dogs.\")\n",
        "\n",
        "\n",
        "print(type(print(*formula)))\n",
        "type(formula)"
      ],
      "metadata": {
        "id": "CHcsUgoe9FOo",
        "colab": {
          "base_uri": "https://localhost:8080/"
        },
        "outputId": "d4120ccb-7e8f-43b1-eb39-6dae03cb1f85"
      },
      "execution_count": null,
      "outputs": [
        {
          "output_type": "stream",
          "name": "stdout",
          "text": [
            "500000.0 500.0 5.0\n",
            "<class 'NoneType'>\n"
          ]
        },
        {
          "output_type": "execute_result",
          "data": {
            "text/plain": [
              "tuple"
            ]
          },
          "metadata": {},
          "execution_count": 15
        }
      ]
    },
    {
      "cell_type": "markdown",
      "source": [
        "# Logics \n",
        "### not (True) == False\n",
        "### not (false) == True \n",
        "### True and False == False \n",
        "### True or False == True \n",
        "#### x+= 1 means x=x+1\n",
        "\n",
        "\n",
        "\n",
        "\n"
      ],
      "metadata": {
        "id": "alsPJMVexq_Y"
      }
    },
    {
      "cell_type": "code",
      "source": [
        "if True:\n",
        "   print(\"yes true\")\n",
        "if not True or not False:\n",
        "    print(\"still True\")\n",
        "\n",
        "x=10\n",
        "y=20\n",
        "diff=x-y\n",
        "if diff < x:\n",
        "  print(\"Diff is less than x\")\n",
        "elif diff < y:\n",
        "  print(\"diff is less than y \")\n"
      ],
      "metadata": {
        "id": "6_9lwpXuyTaZ"
      },
      "execution_count": null,
      "outputs": []
    },
    {
      "cell_type": "markdown",
      "source": [
        "#Looping\n",
        "\n"
      ],
      "metadata": {
        "id": "8UOpMP6l4AB2"
      }
    },
    {
      "cell_type": "code",
      "source": [
        "alphanum=[\"1\",\"A\",\"2\",\"B\",\"C\",\"4\"]\n",
        "# for ele in alphanum:\n",
        "#   print(ele)\n",
        "# for i in range(len(alphanum)-1,0,-1):\n",
        "#     print(alphanum[i])\n",
        "alphanum.append(\"Karan\")\n",
        "print(alphanum)\n",
        "type(alphanum)\n",
        "sorted(alphanum)\n",
        "\n",
        "#while loop\n",
        "i=0\n",
        "numbers=[]\n",
        "while i<6:\n",
        "  print(\"at the top i is\",i)\n",
        "  numbers.append(i)\n",
        "  i+=1\n",
        "  print(\"Numbers now :\", numbers)\n",
        "  print(\"at the bottom i is\",i)\n",
        "\n"
      ],
      "metadata": {
        "id": "mmuwo0ga4DNe"
      },
      "execution_count": null,
      "outputs": []
    },
    {
      "cell_type": "markdown",
      "source": [
        "##List"
      ],
      "metadata": {
        "id": "oD4kNCyDAwlJ"
      }
    },
    {
      "cell_type": "code",
      "source": [
        "animals=[\"Bear\",\"Tiger\",\"Monkey\"]\n",
        "num=[1,2,3,4,5,6,7]\n",
        "\n",
        "#Lst[ Initial : End : IndexJump ]\n",
        "#-7__-6__-5__-4__-3__-2__-1___ neg index\n",
        "# 1 | 2 | 3 | 4 | 5 | 6 | 7 | array\n",
        "#_0___1____2__3___4___5___6__ pos index \n",
        "num[::]\n",
        "num[0:7:2]\n",
        "num[::-1]\n",
        "#if the initial and end are kept empty it takes the default that is initial : 0 and end : length of list\n",
        "\n",
        "animals.pop(0) #removes the element from the list\n",
        "string=\"Some string can be split by split method\"\n",
        "string.split(\" \") #returns a list based on the delimeter\n",
        "animals.append(\"karan\")\n",
        "animals\n",
        "stuff=\"This is joined\"\n",
        "print(animals)\n",
        "print('#'.join(animals[1:3]))\n",
        "del animals[0]\n",
        "print(animals)\n"
      ],
      "metadata": {
        "colab": {
          "base_uri": "https://localhost:8080/"
        },
        "id": "iEaVR3F_AzAh",
        "outputId": "d24ecc55-8554-4f7a-d36f-6ab3fa742fbb"
      },
      "execution_count": null,
      "outputs": [
        {
          "output_type": "stream",
          "name": "stdout",
          "text": [
            "['Tiger', 'Monkey', 'karan']\n",
            "Monkey#karan\n",
            "['Monkey', 'karan']\n"
          ]
        }
      ]
    },
    {
      "cell_type": "markdown",
      "source": [
        "##Dictionaries "
      ],
      "metadata": {
        "id": "DtHKtf9eF9sQ"
      }
    },
    {
      "cell_type": "code",
      "source": [
        "things={\"name\":\"karan\",2:39,2:34}\n",
        "print(things[2])#if 2 values of has same key then the latest one is considered no errors are observed \n",
        "# we can use del to delete elements by key \n",
        "print(type(things.items()))\n",
        "\n",
        "for key,val in list(things.items()):\n",
        "  print(key,val)\n",
        "##dictionary[\"key\"]=\"value\"\n",
        "things.get(\"name\",\"default\") #if the key is not present the second parameter acts as a default.\n",
        "state=\"\"\n",
        "if not state: #it means if the given variable is not non-empty but since it is empty it will be like if not false ie. if true.\n",
        "  print(\"emtpy\") \n",
        "\n",
        "students=dict()\n",
        "help(dict)\n",
        "\n",
        "\n"
      ],
      "metadata": {
        "colab": {
          "base_uri": "https://localhost:8080/"
        },
        "id": "JaFnaY24GDFD",
        "outputId": "5a8ccbf8-e996-41b4-f6e9-add60d7cd91f"
      },
      "execution_count": null,
      "outputs": [
        {
          "output_type": "stream",
          "name": "stdout",
          "text": [
            "34\n",
            "<class 'dict_items'>\n",
            "name karan\n",
            "2 34\n",
            "emtpy\n",
            "Help on class dict in module builtins:\n",
            "\n",
            "class dict(object)\n",
            " |  dict() -> new empty dictionary\n",
            " |  dict(mapping) -> new dictionary initialized from a mapping object's\n",
            " |      (key, value) pairs\n",
            " |  dict(iterable) -> new dictionary initialized as if via:\n",
            " |      d = {}\n",
            " |      for k, v in iterable:\n",
            " |          d[k] = v\n",
            " |  dict(**kwargs) -> new dictionary initialized with the name=value pairs\n",
            " |      in the keyword argument list.  For example:  dict(one=1, two=2)\n",
            " |  \n",
            " |  Built-in subclasses:\n",
            " |      StgDict\n",
            " |  \n",
            " |  Methods defined here:\n",
            " |  \n",
            " |  __contains__(self, key, /)\n",
            " |      True if the dictionary has the specified key, else False.\n",
            " |  \n",
            " |  __delitem__(self, key, /)\n",
            " |      Delete self[key].\n",
            " |  \n",
            " |  __eq__(self, value, /)\n",
            " |      Return self==value.\n",
            " |  \n",
            " |  __ge__(self, value, /)\n",
            " |      Return self>=value.\n",
            " |  \n",
            " |  __getattribute__(self, name, /)\n",
            " |      Return getattr(self, name).\n",
            " |  \n",
            " |  __getitem__(...)\n",
            " |      x.__getitem__(y) <==> x[y]\n",
            " |  \n",
            " |  __gt__(self, value, /)\n",
            " |      Return self>value.\n",
            " |  \n",
            " |  __init__(self, /, *args, **kwargs)\n",
            " |      Initialize self.  See help(type(self)) for accurate signature.\n",
            " |  \n",
            " |  __iter__(self, /)\n",
            " |      Implement iter(self).\n",
            " |  \n",
            " |  __le__(self, value, /)\n",
            " |      Return self<=value.\n",
            " |  \n",
            " |  __len__(self, /)\n",
            " |      Return len(self).\n",
            " |  \n",
            " |  __lt__(self, value, /)\n",
            " |      Return self<value.\n",
            " |  \n",
            " |  __ne__(self, value, /)\n",
            " |      Return self!=value.\n",
            " |  \n",
            " |  __repr__(self, /)\n",
            " |      Return repr(self).\n",
            " |  \n",
            " |  __reversed__(self, /)\n",
            " |      Return a reverse iterator over the dict keys.\n",
            " |  \n",
            " |  __setitem__(self, key, value, /)\n",
            " |      Set self[key] to value.\n",
            " |  \n",
            " |  __sizeof__(...)\n",
            " |      D.__sizeof__() -> size of D in memory, in bytes\n",
            " |  \n",
            " |  clear(...)\n",
            " |      D.clear() -> None.  Remove all items from D.\n",
            " |  \n",
            " |  copy(...)\n",
            " |      D.copy() -> a shallow copy of D\n",
            " |  \n",
            " |  get(self, key, default=None, /)\n",
            " |      Return the value for key if key is in the dictionary, else default.\n",
            " |  \n",
            " |  items(...)\n",
            " |      D.items() -> a set-like object providing a view on D's items\n",
            " |  \n",
            " |  keys(...)\n",
            " |      D.keys() -> a set-like object providing a view on D's keys\n",
            " |  \n",
            " |  pop(...)\n",
            " |      D.pop(k[,d]) -> v, remove specified key and return the corresponding value.\n",
            " |      If key is not found, d is returned if given, otherwise KeyError is raised\n",
            " |  \n",
            " |  popitem(self, /)\n",
            " |      Remove and return a (key, value) pair as a 2-tuple.\n",
            " |      \n",
            " |      Pairs are returned in LIFO (last-in, first-out) order.\n",
            " |      Raises KeyError if the dict is empty.\n",
            " |  \n",
            " |  setdefault(self, key, default=None, /)\n",
            " |      Insert key with a value of default if key is not in the dictionary.\n",
            " |      \n",
            " |      Return the value for key if key is in the dictionary, else default.\n",
            " |  \n",
            " |  update(...)\n",
            " |      D.update([E, ]**F) -> None.  Update D from dict/iterable E and F.\n",
            " |      If E is present and has a .keys() method, then does:  for k in E: D[k] = E[k]\n",
            " |      If E is present and lacks a .keys() method, then does:  for k, v in E: D[k] = v\n",
            " |      In either case, this is followed by: for k in F:  D[k] = F[k]\n",
            " |  \n",
            " |  values(...)\n",
            " |      D.values() -> an object providing a view on D's values\n",
            " |  \n",
            " |  ----------------------------------------------------------------------\n",
            " |  Class methods defined here:\n",
            " |  \n",
            " |  fromkeys(iterable, value=None, /) from builtins.type\n",
            " |      Create a new dictionary with keys from iterable and values set to value.\n",
            " |  \n",
            " |  ----------------------------------------------------------------------\n",
            " |  Static methods defined here:\n",
            " |  \n",
            " |  __new__(*args, **kwargs) from builtins.type\n",
            " |      Create and return a new object.  See help(type) for accurate signature.\n",
            " |  \n",
            " |  ----------------------------------------------------------------------\n",
            " |  Data and other attributes defined here:\n",
            " |  \n",
            " |  __hash__ = None\n",
            "\n"
          ]
        }
      ]
    },
    {
      "cell_type": "markdown",
      "source": [
        "#Branches and Functions\n"
      ],
      "metadata": {
        "id": "jV9zNt9ZQ0TD"
      }
    },
    {
      "cell_type": "code",
      "source": [
        "from sys import exit\n",
        "def gold_room():\n",
        "  print(\"this room is full of gold. How much do you take?\")\n",
        "  how_much=int(input(\"> \" ))\n",
        "  if how_much<=50:\n",
        "    print(\"Nice,you're not greedy,you win!\")\n",
        "    exit(0)\n",
        "  else:\n",
        "    dead(\"You greedy fella!\")\n",
        "def bear_room():\n",
        "    print(\"\"\"There is bear here.\n",
        "          The bear has a bunch of honey.\n",
        "          The fat bear is in front of another door.\n",
        "          How are you going to move the bear?\"\"\")\n",
        "    bear_moved=False\n",
        "    while True:\n",
        "      choice=input(\"> \")\n",
        "      if choice == \"take honey\":\n",
        "        dead(\"The bear looks at you then slaps your face off.\")\n",
        "      elif choice == \"taunt bear\" and not bear_moved:\n",
        "        print(\"The bear has moved from the door\")\n",
        "        print(\"You can go thru it now\")\n",
        "        bear_moved=True\n",
        "      elif choice==\"taunt bear\" and bear_moved:\n",
        "        dead(\"The bear gets pissed off and chews your leg off\")\n",
        "      elif choice==\"Open door\" and bear_moved:\n",
        "        gold_room()\n",
        "      else:\n",
        "        print(\"I got no idea what that means\")\n",
        "    \n",
        "def cthulhu_room():\n",
        "      print(\"\"\"Here you see the great evil Cthulhu.\n",
        "      It stares at you and you go insane.\n",
        "      Do you flee for your life or eat your head?\"\"\")\n",
        "      choice = input(\">\")\n",
        "      if \"flee\" in choice:\n",
        "        start()\n",
        "      elif \"head\" in choice:\n",
        "        dead(\"Well that was tasty\")\n",
        "      else:\n",
        "        cthulhu_room()\n",
        "      \n",
        "def dead(why):\n",
        "        print(why,\"Good job\")\n",
        "        exit(0)\n",
        "      \n",
        "def start():\n",
        "        print(\"\"\"You are in a dark room\n",
        "        There is adoor to your right and left\n",
        "        Which one do you take?\"\"\")\n",
        "\n",
        "        choice=input(\"> \")\n",
        "        if choice.lower() == \"left\":\n",
        "          bear_room()\n",
        "        elif choice.lower() == \"right\":\n",
        "          cthulhu_room()\n",
        "        else:\n",
        "          dead(\"You stumble around the room until you starve\")\n",
        "  \n",
        "start()        \n",
        "\n"
      ],
      "metadata": {
        "colab": {
          "base_uri": "https://localhost:8080/",
          "height": 374
        },
        "id": "9X6oKCiDQ3n2",
        "outputId": "3238f33a-93a3-4886-bf51-c8af8e2b89fb"
      },
      "execution_count": null,
      "outputs": [
        {
          "output_type": "stream",
          "name": "stdout",
          "text": [
            "You are in a dark room\n",
            "        There is adoor to your right and left\n",
            "        Which one do you take?\n",
            "> left\n",
            "There is bear here.\n",
            "          The bear has a bunch of honey.\n",
            "          The fat bear is in front of another door.\n",
            "          How are you going to move the bear?\n",
            "> taunt bear\n",
            "The bear has moved from the door\n",
            "You can go thru it now\n",
            "> Open door\n",
            "this room is full of gold. How much do you take?\n",
            "> 34\n",
            "Man,learn to type a number. Good job\n"
          ]
        },
        {
          "output_type": "error",
          "ename": "SystemExit",
          "evalue": "ignored",
          "traceback": [
            "An exception has occurred, use %tb to see the full traceback.\n",
            "\u001b[0;31mSystemExit\u001b[0m\u001b[0;31m:\u001b[0m 0\n"
          ]
        }
      ]
    },
    {
      "cell_type": "markdown",
      "source": [
        "#OOP - object oriented programming"
      ],
      "metadata": {
        "id": "pKwKSO38k8pq"
      }
    },
    {
      "cell_type": "code",
      "source": [
        "# class MyStuff(object):\n",
        "#   def __init__(self):\n",
        "#     self.tangerine=\"And now a thousand yeard between\"\n",
        "#   def apple(self):\n",
        "#     print(\"I AM APPLE\")\n",
        "# #when we instantiate means to say we create we get an object \n",
        "# thing=MyStuff() ##here we created an object \n",
        "# thing.apple()\n",
        "# print(thing.tangerine)\n",
        "\n",
        "\n",
        "#this is a basic class\n",
        "class Book:\n",
        "  #there is by default an __init__ function which is overriden\n",
        "  #its different from constructor\n",
        "  #self is not a necessary key word we can use other words also like the obj i have used here but self is considered a standard word while working with classes\n",
        "  def __init__(obj,title,pages,price):\n",
        "    obj.title=title\n",
        "    obj.pages=pages\n",
        "    obj.price=price\n",
        "    obj.__secret=\"This is a secret attr\"\n",
        "  def getprice(self):\n",
        "    if hasattr(self,\"_discount\"):\n",
        "      return self.price - (self.price *self._discount)\n",
        "    else:\n",
        "      return self.price\n",
        "  def setdiscount(self,amount):\n",
        "    self._discount=amount\n",
        "    #only used within the logic of the class\n",
        "  \n",
        "#creating instances of the class\n",
        "#here when we are instantiating the class as object b1, simultaneously the init function is also called.\n",
        "#and the object name b1 is sent as a parameter \n",
        "b1=Book(\"1984\",230,100)\n",
        "b2=Book(\"Brave new World\",200,250)\n",
        "print(b2.getprice())\n",
        "b2.setdiscount(0.10)\n",
        "print(b2.getprice())\n",
        "\n",
        "#when __attr is accesed\n",
        "#prefixing the class name in the attr  its called name mangling\n",
        "#to prevent subclasses by inadvertently overriding the attr \n",
        "#but other classes can use the attr\n",
        "print(b2._Book__secret) "
      ],
      "metadata": {
        "id": "_2JrMpP5lE4p"
      },
      "execution_count": null,
      "outputs": []
    },
    {
      "cell_type": "markdown",
      "source": [
        "###isinstance() function"
      ],
      "metadata": {
        "id": "OT-HaRFSnM1X"
      }
    },
    {
      "cell_type": "code",
      "source": [
        "class book:\n",
        "  def __init__(self,title):\n",
        "    self.title=title\n",
        "class newspaper:\n",
        "  def __init__(self,title):\n",
        "    self.title=title\n",
        "b1=book(\"some book\")\n",
        "n1=newspaper(\"some newspaper\")\n",
        "\n",
        "print(isinstance(b1,book))\n",
        "print(isinstance(n1,newspaper))\n",
        "print(isinstance(b1,newspaper))\n",
        "print(isinstance(b1,object))"
      ],
      "metadata": {
        "id": "MeYQodT7h6ge"
      },
      "execution_count": null,
      "outputs": []
    },
    {
      "cell_type": "markdown",
      "source": [
        "##Class Method and static Method\n",
        "  -instance method work on specific objects\n",
        "  -class method works on entire class\n",
        "  -static method doesnt modify the state or specific \n",
        "  -object instance, they are useful in namespacing  -  -certain methods or we would have created a global -function and printed in the class namespace"
      ],
      "metadata": {
        "id": "yO1XFVSpnRwU"
      }
    },
    {
      "cell_type": "code",
      "source": [
        "class Book:\n",
        "  #properties defined at the class level are shared by all instances\n",
        "  BOOKTYPES=(\"Hardcover\",\"Paperback\",\"Ebook\")\n",
        "  #__ properties are hidden from other classes\n",
        "  __booklist=None\n",
        "\n",
        "  #create a class method they are shared at class level and shared across all instances of the class\n",
        "  #  classmethod #pronounced as class method decorator\n",
        "  #  Here if each book object was assigned a booktype, if it is going to apply to all object it \n",
        "  #  make sense to be appplied just once so a class method\n",
        "  @classmethod \n",
        "  def getbooktypes(cls):\n",
        "    return cls.BOOKTYPES\n",
        " \n",
        "  #create a static method\n",
        "  #example we want to create a variable that keeps the track of book\n",
        "  #This makes sense that it would belong to only book class\n",
        "  @staticmethod\n",
        "  def getbooklist():\n",
        "    if Book.__booklist == None:\n",
        "      Book.__booklist = []\n",
        "    return Book.__booklist\n",
        "\n",
        "\n",
        "#instance function and the title attr is itself the instance attr \n",
        "  def setTitle(self,newtitle):\n",
        "    self.title=newtitle\n",
        "  def __init__(self,title,booktype):\n",
        "    self.title=title\n",
        "    if (booktype not in Book.BOOKTYPES):\n",
        "      raise ValueError(f\"{booktype} is not a valid booktype\")\n",
        "    else:\n",
        "      self.booktype=booktype\n",
        "\n",
        "\n",
        "    \n",
        "print(\"Book types :\", Book.getbooktypes())\n",
        "b1=Book(\"1984\",\"Paperback\")\n",
        "b2=Book(\"Ravan\",\"Hardcover\")  \n",
        "\n",
        "#use of static method\n",
        "thebooks=Book.getbooklist()\n",
        "thebooks.append(b1.title)\n",
        "thebooks.append(b2.title)\n",
        "print(thebooks)\n"
      ],
      "metadata": {
        "id": "WJMZiZrZm90I",
        "colab": {
          "base_uri": "https://localhost:8080/"
        },
        "outputId": "51502f5f-bc9d-4944-9754-881927cc29ec"
      },
      "execution_count": null,
      "outputs": [
        {
          "output_type": "stream",
          "name": "stdout",
          "text": [
            "Book types : ('Hardcover', 'Paperback', 'Ebook')\n",
            "['1984', 'Ravan']\n"
          ]
        },
        {
          "output_type": "execute_result",
          "data": {
            "text/plain": [
              "list"
            ]
          },
          "metadata": {},
          "execution_count": 2
        }
      ]
    },
    {
      "cell_type": "markdown",
      "source": [
        "##Inheritance\n"
      ],
      "metadata": {
        "id": "Q-4QA9AgX-rT"
      }
    },
    {
      "cell_type": "code",
      "source": [
        "#Lets create classes to build a set of furnitures\n",
        "\n",
        "class furniture:\n",
        "  def __init__(self,woodtype,screws):\n",
        "    self.woodtype=woodtype\n",
        "    self.screws=screws\n",
        "\n",
        "class Chair(furniture):\n",
        "  def __init__(self,arms,dim,woodtype,screws):\n",
        "    super().__init__(woodtype,screws)\n",
        "    self.dim=dim\n",
        "    self.arms=arms\n",
        "\n",
        "class Table(furniture):\n",
        "  def __init__(self,legs,woodtype,screws):\n",
        "    super().__init__(woodtype,screws)\n",
        "    self.legs=legs\n",
        "  \n",
        "ch1=Chair(3,\"6*8\",\"Burma\",4)\n",
        "tb1=Table(4,\"Teak\",10)\n",
        "\n",
        "print(f\"\"\"\n",
        "        chairs arms : {ch1.arms}\n",
        "        dim : {ch1.dim}\n",
        "        woodtype : {ch1.woodtype}\n",
        "        screws : {ch1.screws}\n",
        "      \n",
        "         Table legs : {tb1.legs}\n",
        "          woodtype : {tb1.woodtype}\n",
        "          screws : {tb1.screws} \"\"\")"
      ],
      "metadata": {
        "id": "IY-_9urLYMqN"
      },
      "execution_count": null,
      "outputs": []
    },
    {
      "cell_type": "markdown",
      "source": [
        "##abstract base class\n"
      ],
      "metadata": {
        "id": "o_cFSBRQcYX5"
      }
    },
    {
      "cell_type": "code",
      "source": [
        "from abc import ABC,abstractclassmethod\n",
        "#using abstract base classes to enforce class constraints\n",
        "\n",
        "class graphic(ABC):\n",
        "  def __init__(self):\n",
        "    super().__init__() #this is inherited \n",
        "\n",
        "  @abstractclassmethod\n",
        "  def calarea(self):\n",
        "    pass\n",
        "  def bal(self):\n",
        "    pass\n",
        "\n",
        "class circle(graphic):\n",
        "  def __init__(self,radius):\n",
        "    self.radius=radius\n",
        "  def calarea(self):\n",
        "    return (3.14*(self.radius**2))\n",
        "\n",
        "class square(graphic):\n",
        "  def __init__(self,side):\n",
        "    self.side=side\n",
        "  def calarea(self):\n",
        "    return (self.side**2)\n",
        "\n",
        "#g=graphic()  \n",
        "cir=circle(4)\n",
        "sq=square(10)\n",
        "print(\"Area of circle\",cir.calarea())\n",
        "print(\"Area of square\",sq.calarea())\n"
      ],
      "metadata": {
        "colab": {
          "base_uri": "https://localhost:8080/"
        },
        "id": "aIHMWRYscfyY",
        "outputId": "80ad6f1e-7da7-4795-c76a-2f47289eddeb"
      },
      "execution_count": null,
      "outputs": [
        {
          "output_type": "stream",
          "name": "stdout",
          "text": [
            "Area of circle 50.24\n",
            "Area of square 100\n"
          ]
        }
      ]
    },
    {
      "cell_type": "markdown",
      "source": [
        "##Multiple Inheritance"
      ],
      "metadata": {
        "id": "UaiOak0Ze2Dw"
      }
    },
    {
      "cell_type": "code",
      "source": [
        "from os import name\n",
        "#method resolution order left to right in the parameter\n",
        "class winduser:\n",
        "  def __init__(self):\n",
        "    super().__init__()\n",
        "    self.windpower=\"windpower\"\n",
        "    self.name=\"Vayu\"\n",
        "  \n",
        "class earthuser:\n",
        "  def __init__(self):\n",
        "    super().__init__()  \n",
        "    self.earthpower='earthpower'\n",
        "    self.name=\"Dharti\"\n",
        "  \n",
        "  \n",
        " #based on the order the super().__init__() needs to be present in any one of the super class __init__ method\n",
        "\n",
        "class avatar(earthuser,winduser): \n",
        "  def __init__(self):\n",
        "    super().__init__()\n",
        "   \n",
        "  def showpowers(self):\n",
        "    print(self.windpower)\n",
        "    print(self.earthpower)\n",
        "    print(self.name)\n",
        "\n",
        "\n",
        "aang=avatar()\n",
        "aang.showpowers()\n",
        "print(avatar.__mro__)\n",
        "#implicit superclass for all python objects is the class object"
      ],
      "metadata": {
        "colab": {
          "base_uri": "https://localhost:8080/"
        },
        "id": "pBkFWfrge5TP",
        "outputId": "052ffd71-0105-41ce-f564-12a59c63a700"
      },
      "execution_count": null,
      "outputs": [
        {
          "output_type": "stream",
          "name": "stdout",
          "text": [
            "windpower\n",
            "earthpower\n",
            "Dharti\n",
            "(<class '__main__.avatar'>, <class '__main__.earthuser'>, <class '__main__.winduser'>, <class 'object'>)\n"
          ]
        }
      ]
    },
    {
      "cell_type": "markdown",
      "source": [
        "##Interfaces"
      ],
      "metadata": {
        "id": "n5pPdX7HkTue"
      }
    },
    {
      "cell_type": "code",
      "source": [
        "from abc import ABC,abstractclassmethod\n",
        "#using abstract base classes to enforce class constraints\n",
        "\n",
        "class jsonify(ABC):\n",
        "  @abstractclassmethod\n",
        "  def tojson(self):\n",
        "    pass\n",
        "\n",
        "class graphic(ABC):\n",
        "  def __init__(self):\n",
        "    super().__init__() #this is inherited \n",
        "  @abstractclassmethod\n",
        "  def calarea(self):\n",
        "    pass\n",
        "\n",
        "class circle(graphic,jsonify):\n",
        "  def __init__(self,radius):\n",
        "    self.radius=radius\n",
        "  def calarea(self):\n",
        "    return (3.14*(self.radius**2))\n",
        "  def tojson(self):\n",
        "    return (f\"{{\\\"circle\\\":{str(self.calarea())}}}\")\n",
        "\n",
        "\n",
        "class square(graphic):\n",
        "   def __init__(self,side):\n",
        "    self.side=side\n",
        "   def calarea(self):\n",
        "    return (self.side**2)\n",
        "\n",
        "#g=graphic()  \n",
        "cir=circle(4)\n",
        "print(cir.tojson())\n",
        "sq=square(10)\n",
        "print(\"Area of circle\",cir.calarea())\n",
        "print(\"Area of square\",sq.calarea())\n"
      ],
      "metadata": {
        "colab": {
          "base_uri": "https://localhost:8080/"
        },
        "outputId": "4dacc29f-df99-4812-c93d-20ee0e4e2f40",
        "id": "PAk351nvqoBq"
      },
      "execution_count": null,
      "outputs": [
        {
          "output_type": "stream",
          "name": "stdout",
          "text": [
            "{\" circle\":50.24}\n",
            "Area of circle 50.24\n",
            "Area of square 100\n"
          ]
        }
      ]
    },
    {
      "cell_type": "markdown",
      "source": [
        "##COMPOSITION![image.png](data:image/png;base64,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)"
      ],
      "metadata": {
        "id": "44lzyIoKcfZH"
      }
    },
    {
      "cell_type": "code",
      "source": [
        "class Book:\n",
        "  def __init__(self,title,price,author=None):\n",
        "    self.title=title\n",
        "    self.price=price\n",
        "    self.author=author\n",
        "    self.chapter=[]\n",
        "\n",
        "  def addchapters(self,chapter):\n",
        "    self.chapter.append(chapter)\n",
        "  def getbookpc(self):\n",
        "    result=0\n",
        "    for ch in self.chapter:\n",
        "      result+=ch.pc\n",
        "    return result\n",
        "\n",
        "\n",
        "class Author:\n",
        "  def __init__(self,fname,lname):\n",
        "    self.fname=fname\n",
        "    self.lname=lname\n",
        "  def __str__(self):\n",
        "    return (f\"{self.fname} {self.lname}\")\n",
        "\n",
        "class Chapter:\n",
        "   def __init__(self,name,pc):\n",
        "      self.name=name\n",
        "      self.pc=pc\n",
        " \n",
        "\n",
        "b1=Book(\"1984\",100,Author(\"Geroge\",\"Orwell\"))\n",
        "b1.addchapters(Chapter(\"Chapter1\",20))\n",
        "b1.addchapters(Chapter(\"Chapter2\",50))\n",
        "b1.addchapters(Chapter(\"Chapter3\",120))\n",
        "\n",
        "print(b1.title)\n",
        "print(b1.author)\n",
        "print(b1.getbookpc())\n"
      ],
      "metadata": {
        "colab": {
          "base_uri": "https://localhost:8080/"
        },
        "id": "8_TNyIJFse7E",
        "outputId": "827ad5dc-b2d3-45e7-d24c-9e51ee31e786"
      },
      "execution_count": null,
      "outputs": [
        {
          "output_type": "stream",
          "name": "stdout",
          "text": [
            "1984\n",
            "Geroge Orwell\n",
            "190\n"
          ]
        }
      ]
    },
    {
      "cell_type": "markdown",
      "source": [
        "##Magic Methods"
      ],
      "metadata": {
        "id": "yD_d3DHN_t_w"
      }
    },
    {
      "cell_type": "code",
      "source": [
        "class Animal(object):\n",
        "  def __init__(self,group,name):\n",
        "    self.group=group\n",
        "    self.name=name\n",
        "  ### __str__ return a string\n",
        "  def __str__(self):\n",
        "    return (f\"{self.group} : {self.name}\")\n",
        "  ### __repr__ return an obj representation\n",
        "animal1=Animal(\"mammal\",\"cat\")\n",
        "animal2=Animal(\"Fish\",\"Tuna\")\n",
        "animal1=Animal(\"Reptile\",\"Snake\")\n",
        "\n",
        "print(animal1)\n",
        "print(animal2.name)\n",
        "str(animal1)\n",
        "repr(animal1)"
      ],
      "metadata": {
        "colab": {
          "base_uri": "https://localhost:8080/",
          "height": 70
        },
        "id": "DiIMRKz0_wKx",
        "outputId": "3b0420c0-c018-41b0-e5ec-b373da647e27"
      },
      "execution_count": null,
      "outputs": [
        {
          "output_type": "stream",
          "name": "stdout",
          "text": [
            "Reptile : Snake\n",
            "Tuna\n"
          ]
        },
        {
          "output_type": "execute_result",
          "data": {
            "text/plain": [
              "'<__main__.Animal object at 0x7f4b6d07f8e0>'"
            ],
            "application/vnd.google.colaboratory.intrinsic+json": {
              "type": "string"
            }
          },
          "metadata": {},
          "execution_count": 10
        }
      ]
    },
    {
      "cell_type": "markdown",
      "source": [
        "##Equality and Comparison"
      ],
      "metadata": {
        "id": "mtxX0-1dCpfX"
      }
    },
    {
      "cell_type": "code",
      "source": [
        "class book:\n",
        "  def __init__(self,title):\n",
        "    self.title=title\n",
        "  def __eq__(self,value):\n",
        "    if not isinstance(value,book):\n",
        "      raise ValueError(\"Doesnt belong to book class\")\n",
        "    return (self.title == value.title)\n",
        "  def __ge__(self):\n",
        "     pass\n",
        "  def __le__(self):\n",
        "      pass\n",
        "class newspaper:\n",
        "  def __init__(self,title):\n",
        "    self.title=title\n",
        "b1=book(\"some book\")\n",
        "b2=book(\"some book\")\n",
        "n1=newspaper(\"some newspaper\")\n",
        "\n",
        "print(b1==b2) \n",
        "#Python compares two instances by memory so they are not equal to each other\n"
      ],
      "metadata": {
        "colab": {
          "base_uri": "https://localhost:8080/"
        },
        "id": "PJP6TO1ECscG",
        "outputId": "9ec76b7c-4f91-40d4-eb4e-7ea6c3900753"
      },
      "execution_count": null,
      "outputs": [
        {
          "output_type": "stream",
          "name": "stdout",
          "text": [
            "True\n"
          ]
        }
      ]
    },
    {
      "cell_type": "markdown",
      "source": [
        "##Attribute access"
      ],
      "metadata": {
        "id": "iJ5l8dEFGPFd"
      }
    },
    {
      "cell_type": "code",
      "source": [
        "# __getattribute__\n",
        "# __setattribute__\n",
        "# __getatt__\n",
        "#__call__ callable objects"
      ],
      "metadata": {
        "id": "58kjZAUrGRNk"
      },
      "execution_count": null,
      "outputs": []
    },
    {
      "cell_type": "code",
      "source": [
        "from dataclasses import dataclass"
      ],
      "metadata": {
        "id": "L9W83jCDIVKC"
      },
      "execution_count": null,
      "outputs": []
    }
  ]
}